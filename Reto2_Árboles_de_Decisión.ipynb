{
  "nbformat": 4,
  "nbformat_minor": 0,
  "metadata": {
    "colab": {
      "provenance": [],
      "include_colab_link": true
    },
    "kernelspec": {
      "name": "python3",
      "display_name": "Python 3"
    },
    "language_info": {
      "name": "python"
    }
  },
  "cells": [
    {
      "cell_type": "markdown",
      "metadata": {
        "id": "view-in-github",
        "colab_type": "text"
      },
      "source": [
        "<a href=\"https://colab.research.google.com/github/MartinCano2004/Analitica-de-Negocios/blob/main/Reto2_%C3%81rboles_de_Decisi%C3%B3n.ipynb\" target=\"_parent\"><img src=\"https://colab.research.google.com/assets/colab-badge.svg\" alt=\"Open In Colab\"/></a>"
      ]
    },
    {
      "cell_type": "markdown",
      "source": [
        "**RETO 2: ÁRBOLES DE DECISIÓN**\n",
        "\n",
        "Martín Cano Aristizábal"
      ],
      "metadata": {
        "id": "-oC42Sjp1fdG"
      }
    },
    {
      "cell_type": "markdown",
      "source": [
        "**DESCRIPCIÓN DE VARIABLES**\n",
        "\n",
        "- Business: Tipo de negocio (si es Software (1) o Hardware (0)).\n",
        "- Age: Edad del empleado.\n",
        "- Female: Si el empleado es mujer (1) o es hombre (0)\n",
        "- Years: Los años que el empleado lleva trabajando.\n",
        "- Certificates: Si el empleado tiene certificados y cuántos son.\n",
        "- Feedback: El puntaje de retroalimentación promedio que cada empleado recibede sus compañeros y supervisor en la evaluación anual de 360 grados. Las puntuaciones posibles van de 0 a 4.\n",
        "- Salary: El salario del empleado.\n",
        "- NPS: El puntaje neto del promotor es un indicador clave de la satisfacción y lealtad del cliente\n",
        "- College: El empleado posee título universitario. SI(1) NO(0)"
      ],
      "metadata": {
        "id": "a32D-mwj1mJ7"
      }
    },
    {
      "cell_type": "markdown",
      "source": [
        "**0. Cargar las librerías de trabajo.**"
      ],
      "metadata": {
        "id": "PtojjVX03SXl"
      }
    },
    {
      "cell_type": "code",
      "source": [
        "import numpy as np\n",
        "import pandas as pd\n",
        "\n",
        "#para implementación y evalución del modelo:\n",
        "from sklearn.tree import DecisionTreeClassifier\n",
        "from sklearn.metrics import confusion_matrix\n"
      ],
      "metadata": {
        "id": "1wD3cWC93X9-"
      },
      "execution_count": null,
      "outputs": []
    },
    {
      "cell_type": "markdown",
      "source": [
        "**1. Cargar la base de datos.**"
      ],
      "metadata": {
        "id": "mTuxQ_Ay3g11"
      }
    },
    {
      "cell_type": "code",
      "source": [
        "nxl=\"/content/2. TechSalesReport_Int_L.xlsx\"\n",
        "XDB=pd.read_excel(nxl,sheet_name=0)\n",
        "XDB['College'] = XDB['College'].replace({'Yes': 1, 'No': 0})\n",
        "print(XDB)\n",
        "\n",
        "#Definir XD - yd\n",
        "XD=XDB[['Business','Age','Years','Female','Feedback','Salary','Certificates','NPS']]\n",
        "yd=XDB['College']"
      ],
      "metadata": {
        "colab": {
          "base_uri": "https://localhost:8080/"
        },
        "id": "FYvvQz5T3o6z",
        "outputId": "24dbb4cf-a5ce-464b-9d7d-f99710045369"
      },
      "execution_count": null,
      "outputs": [
        {
          "output_type": "stream",
          "name": "stdout",
          "text": [
            "       Business  Age  Female  Years  College  Certificates  Feedback  Salary  \\\n",
            "0             0   59       1      2        1             1      2.01   70200   \n",
            "1             0   52       0     10        1             4      3.64  133000   \n",
            "2             1   47       1      1        1             1      3.88   52600   \n",
            "3             0   61       0      2        1             3      2.70   96000   \n",
            "4             1   39       0      1        0             5      3.44  122000   \n",
            "...         ...  ...     ...    ...      ...           ...       ...     ...   \n",
            "21985         1   44       0      1        1             4      1.80  128000   \n",
            "21986         1   23       1      6        1             6      1.77   53400   \n",
            "21987         0   48       1      4        1             0      2.46   50400   \n",
            "21988         1   29       0      4        1             2      3.68   70000   \n",
            "21989         1   23       1      2        1             1      2.13   47400   \n",
            "\n",
            "       NPS  \n",
            "0        5  \n",
            "1       10  \n",
            "2        8  \n",
            "3        6  \n",
            "4        7  \n",
            "...    ...  \n",
            "21985    7  \n",
            "21986    8  \n",
            "21987    4  \n",
            "21988   10  \n",
            "21989    5  \n",
            "\n",
            "[21990 rows x 9 columns]\n"
          ]
        },
        {
          "output_type": "stream",
          "name": "stderr",
          "text": [
            "<ipython-input-4-dacafb31eb1b>:3: FutureWarning: Downcasting behavior in `replace` is deprecated and will be removed in a future version. To retain the old behavior, explicitly call `result.infer_objects(copy=False)`. To opt-in to the future behavior, set `pd.set_option('future.no_silent_downcasting', True)`\n",
            "  XDB['College'] = XDB['College'].replace({'Yes': 1, 'No': 0})\n"
          ]
        }
      ]
    },
    {
      "cell_type": "markdown",
      "source": [
        "**2. Implementamos el modelo.**"
      ],
      "metadata": {
        "id": "-7NyFgq64w95"
      }
    },
    {
      "cell_type": "code",
      "source": [
        "mar=DecisionTreeClassifier(criterion='gini',max_depth=4)\n",
        "mar.fit(XD,yd)\n",
        "\n",
        "#Se procede con el despliegue del árbol de decisión.\n",
        "from sklearn.tree import export_graphviz #Exportar.\n",
        "from pydotplus import graph_from_dot_data #Crear el gráfico.\n",
        "\n",
        "vs=['Business','Age','Years','Female','Feedback','Salary','Certificates','NPS']\n",
        "\n",
        "dot_data=export_graphviz(mar,feature_names=vs)\n",
        "graph=graph_from_dot_data(dot_data)\n",
        "graph.write_png('Reto2_Arbol.png')"
      ],
      "metadata": {
        "colab": {
          "base_uri": "https://localhost:8080/"
        },
        "id": "Wy6R1L_W5RmO",
        "outputId": "57c03ebb-ab8b-4a80-d7c3-e4d1ca0063db"
      },
      "execution_count": null,
      "outputs": [
        {
          "output_type": "execute_result",
          "data": {
            "text/plain": [
              "True"
            ]
          },
          "metadata": {},
          "execution_count": 5
        }
      ]
    },
    {
      "cell_type": "markdown",
      "source": [
        "**3. Desempeño del Modelo.**"
      ],
      "metadata": {
        "id": "x2bBx3Zi6sdN"
      }
    },
    {
      "cell_type": "code",
      "source": [
        "ydp=mar.predict(XD)\n",
        "cm=confusion_matrix(yd,ydp)\n",
        "print(cm)\n",
        "\n",
        "\n",
        "VN=cm[0,0]; FP=cm[0,1]; FN=cm[1,0]; VP=cm[1,1]\n",
        "\n",
        "Exactitud=((VP+VN)/(VP+VN+FP+FN)) #Funcionamiento general del modelo\n",
        "print('La Exactitud del modelo es del',Exactitud)\n",
        "Sensibilidad=(VP/(VP+FN)) #Como se comporto el modelo con los positivos\n",
        "print('La Sensibilidad del modelo es del',Sensibilidad)\n",
        "Especificidad=(VN/(VN+FP)) #Como se comporto el modelo con los 0\n",
        "print('La Especificidad del modelo es del',Especificidad)\n",
        "Precision=(VP/(VP+FP)) #Cual es el acierto clasificando los positivos\n",
        "print('La Precision del modelo es del',Precision)\n",
        "TasaError=((FP+FN)/(VP+VN+FP+FN)) #Equivocación general\n",
        "print('La Tasa de Error del modelo es del',TasaError)\n",
        "PredNeg=(VN/(VN+FN)) #Como funciona el modelo calificando en 0.\n",
        "print('La PredNeg es del',PredNeg)"
      ],
      "metadata": {
        "colab": {
          "base_uri": "https://localhost:8080/"
        },
        "id": "HkuJgDfy6vnx",
        "outputId": "5ba2bcd9-fd81-4616-e036-02d9a7cef576"
      },
      "execution_count": null,
      "outputs": [
        {
          "output_type": "stream",
          "name": "stdout",
          "text": [
            "[[  114  4356]\n",
            " [   69 17451]]\n",
            "La Exactitud del modelo es del 0.7987721691678036\n",
            "La Sensibilidad del modelo es del 0.9960616438356165\n",
            "La Especificidad del modelo es del 0.025503355704697986\n",
            "La Precision del modelo es del 0.8002476269087908\n",
            "La Tasa de Error del modelo es del 0.20122783083219645\n",
            "La PredNeg es del 0.6229508196721312\n"
          ]
        }
      ]
    },
    {
      "cell_type": "markdown",
      "source": [
        "**4. Implementar Naive Bayes.**"
      ],
      "metadata": {
        "id": "ylNIEgb2Eb1d"
      }
    },
    {
      "cell_type": "code",
      "source": [
        "from sklearn.naive_bayes import GaussianNB\n",
        "\n",
        "mnb=GaussianNB()\n",
        "mnb.fit(XD,yd.values.ravel())"
      ],
      "metadata": {
        "colab": {
          "base_uri": "https://localhost:8080/",
          "height": 80
        },
        "id": "uw_L-6aPEiwq",
        "outputId": "95fd8aeb-8d98-4cc1-8419-31b0e38e1e76"
      },
      "execution_count": null,
      "outputs": [
        {
          "output_type": "execute_result",
          "data": {
            "text/plain": [
              "GaussianNB()"
            ],
            "text/html": [
              "<style>#sk-container-id-1 {\n",
              "  /* Definition of color scheme common for light and dark mode */\n",
              "  --sklearn-color-text: #000;\n",
              "  --sklearn-color-text-muted: #666;\n",
              "  --sklearn-color-line: gray;\n",
              "  /* Definition of color scheme for unfitted estimators */\n",
              "  --sklearn-color-unfitted-level-0: #fff5e6;\n",
              "  --sklearn-color-unfitted-level-1: #f6e4d2;\n",
              "  --sklearn-color-unfitted-level-2: #ffe0b3;\n",
              "  --sklearn-color-unfitted-level-3: chocolate;\n",
              "  /* Definition of color scheme for fitted estimators */\n",
              "  --sklearn-color-fitted-level-0: #f0f8ff;\n",
              "  --sklearn-color-fitted-level-1: #d4ebff;\n",
              "  --sklearn-color-fitted-level-2: #b3dbfd;\n",
              "  --sklearn-color-fitted-level-3: cornflowerblue;\n",
              "\n",
              "  /* Specific color for light theme */\n",
              "  --sklearn-color-text-on-default-background: var(--sg-text-color, var(--theme-code-foreground, var(--jp-content-font-color1, black)));\n",
              "  --sklearn-color-background: var(--sg-background-color, var(--theme-background, var(--jp-layout-color0, white)));\n",
              "  --sklearn-color-border-box: var(--sg-text-color, var(--theme-code-foreground, var(--jp-content-font-color1, black)));\n",
              "  --sklearn-color-icon: #696969;\n",
              "\n",
              "  @media (prefers-color-scheme: dark) {\n",
              "    /* Redefinition of color scheme for dark theme */\n",
              "    --sklearn-color-text-on-default-background: var(--sg-text-color, var(--theme-code-foreground, var(--jp-content-font-color1, white)));\n",
              "    --sklearn-color-background: var(--sg-background-color, var(--theme-background, var(--jp-layout-color0, #111)));\n",
              "    --sklearn-color-border-box: var(--sg-text-color, var(--theme-code-foreground, var(--jp-content-font-color1, white)));\n",
              "    --sklearn-color-icon: #878787;\n",
              "  }\n",
              "}\n",
              "\n",
              "#sk-container-id-1 {\n",
              "  color: var(--sklearn-color-text);\n",
              "}\n",
              "\n",
              "#sk-container-id-1 pre {\n",
              "  padding: 0;\n",
              "}\n",
              "\n",
              "#sk-container-id-1 input.sk-hidden--visually {\n",
              "  border: 0;\n",
              "  clip: rect(1px 1px 1px 1px);\n",
              "  clip: rect(1px, 1px, 1px, 1px);\n",
              "  height: 1px;\n",
              "  margin: -1px;\n",
              "  overflow: hidden;\n",
              "  padding: 0;\n",
              "  position: absolute;\n",
              "  width: 1px;\n",
              "}\n",
              "\n",
              "#sk-container-id-1 div.sk-dashed-wrapped {\n",
              "  border: 1px dashed var(--sklearn-color-line);\n",
              "  margin: 0 0.4em 0.5em 0.4em;\n",
              "  box-sizing: border-box;\n",
              "  padding-bottom: 0.4em;\n",
              "  background-color: var(--sklearn-color-background);\n",
              "}\n",
              "\n",
              "#sk-container-id-1 div.sk-container {\n",
              "  /* jupyter's `normalize.less` sets `[hidden] { display: none; }`\n",
              "     but bootstrap.min.css set `[hidden] { display: none !important; }`\n",
              "     so we also need the `!important` here to be able to override the\n",
              "     default hidden behavior on the sphinx rendered scikit-learn.org.\n",
              "     See: https://github.com/scikit-learn/scikit-learn/issues/21755 */\n",
              "  display: inline-block !important;\n",
              "  position: relative;\n",
              "}\n",
              "\n",
              "#sk-container-id-1 div.sk-text-repr-fallback {\n",
              "  display: none;\n",
              "}\n",
              "\n",
              "div.sk-parallel-item,\n",
              "div.sk-serial,\n",
              "div.sk-item {\n",
              "  /* draw centered vertical line to link estimators */\n",
              "  background-image: linear-gradient(var(--sklearn-color-text-on-default-background), var(--sklearn-color-text-on-default-background));\n",
              "  background-size: 2px 100%;\n",
              "  background-repeat: no-repeat;\n",
              "  background-position: center center;\n",
              "}\n",
              "\n",
              "/* Parallel-specific style estimator block */\n",
              "\n",
              "#sk-container-id-1 div.sk-parallel-item::after {\n",
              "  content: \"\";\n",
              "  width: 100%;\n",
              "  border-bottom: 2px solid var(--sklearn-color-text-on-default-background);\n",
              "  flex-grow: 1;\n",
              "}\n",
              "\n",
              "#sk-container-id-1 div.sk-parallel {\n",
              "  display: flex;\n",
              "  align-items: stretch;\n",
              "  justify-content: center;\n",
              "  background-color: var(--sklearn-color-background);\n",
              "  position: relative;\n",
              "}\n",
              "\n",
              "#sk-container-id-1 div.sk-parallel-item {\n",
              "  display: flex;\n",
              "  flex-direction: column;\n",
              "}\n",
              "\n",
              "#sk-container-id-1 div.sk-parallel-item:first-child::after {\n",
              "  align-self: flex-end;\n",
              "  width: 50%;\n",
              "}\n",
              "\n",
              "#sk-container-id-1 div.sk-parallel-item:last-child::after {\n",
              "  align-self: flex-start;\n",
              "  width: 50%;\n",
              "}\n",
              "\n",
              "#sk-container-id-1 div.sk-parallel-item:only-child::after {\n",
              "  width: 0;\n",
              "}\n",
              "\n",
              "/* Serial-specific style estimator block */\n",
              "\n",
              "#sk-container-id-1 div.sk-serial {\n",
              "  display: flex;\n",
              "  flex-direction: column;\n",
              "  align-items: center;\n",
              "  background-color: var(--sklearn-color-background);\n",
              "  padding-right: 1em;\n",
              "  padding-left: 1em;\n",
              "}\n",
              "\n",
              "\n",
              "/* Toggleable style: style used for estimator/Pipeline/ColumnTransformer box that is\n",
              "clickable and can be expanded/collapsed.\n",
              "- Pipeline and ColumnTransformer use this feature and define the default style\n",
              "- Estimators will overwrite some part of the style using the `sk-estimator` class\n",
              "*/\n",
              "\n",
              "/* Pipeline and ColumnTransformer style (default) */\n",
              "\n",
              "#sk-container-id-1 div.sk-toggleable {\n",
              "  /* Default theme specific background. It is overwritten whether we have a\n",
              "  specific estimator or a Pipeline/ColumnTransformer */\n",
              "  background-color: var(--sklearn-color-background);\n",
              "}\n",
              "\n",
              "/* Toggleable label */\n",
              "#sk-container-id-1 label.sk-toggleable__label {\n",
              "  cursor: pointer;\n",
              "  display: flex;\n",
              "  width: 100%;\n",
              "  margin-bottom: 0;\n",
              "  padding: 0.5em;\n",
              "  box-sizing: border-box;\n",
              "  text-align: center;\n",
              "  align-items: start;\n",
              "  justify-content: space-between;\n",
              "  gap: 0.5em;\n",
              "}\n",
              "\n",
              "#sk-container-id-1 label.sk-toggleable__label .caption {\n",
              "  font-size: 0.6rem;\n",
              "  font-weight: lighter;\n",
              "  color: var(--sklearn-color-text-muted);\n",
              "}\n",
              "\n",
              "#sk-container-id-1 label.sk-toggleable__label-arrow:before {\n",
              "  /* Arrow on the left of the label */\n",
              "  content: \"▸\";\n",
              "  float: left;\n",
              "  margin-right: 0.25em;\n",
              "  color: var(--sklearn-color-icon);\n",
              "}\n",
              "\n",
              "#sk-container-id-1 label.sk-toggleable__label-arrow:hover:before {\n",
              "  color: var(--sklearn-color-text);\n",
              "}\n",
              "\n",
              "/* Toggleable content - dropdown */\n",
              "\n",
              "#sk-container-id-1 div.sk-toggleable__content {\n",
              "  max-height: 0;\n",
              "  max-width: 0;\n",
              "  overflow: hidden;\n",
              "  text-align: left;\n",
              "  /* unfitted */\n",
              "  background-color: var(--sklearn-color-unfitted-level-0);\n",
              "}\n",
              "\n",
              "#sk-container-id-1 div.sk-toggleable__content.fitted {\n",
              "  /* fitted */\n",
              "  background-color: var(--sklearn-color-fitted-level-0);\n",
              "}\n",
              "\n",
              "#sk-container-id-1 div.sk-toggleable__content pre {\n",
              "  margin: 0.2em;\n",
              "  border-radius: 0.25em;\n",
              "  color: var(--sklearn-color-text);\n",
              "  /* unfitted */\n",
              "  background-color: var(--sklearn-color-unfitted-level-0);\n",
              "}\n",
              "\n",
              "#sk-container-id-1 div.sk-toggleable__content.fitted pre {\n",
              "  /* unfitted */\n",
              "  background-color: var(--sklearn-color-fitted-level-0);\n",
              "}\n",
              "\n",
              "#sk-container-id-1 input.sk-toggleable__control:checked~div.sk-toggleable__content {\n",
              "  /* Expand drop-down */\n",
              "  max-height: 200px;\n",
              "  max-width: 100%;\n",
              "  overflow: auto;\n",
              "}\n",
              "\n",
              "#sk-container-id-1 input.sk-toggleable__control:checked~label.sk-toggleable__label-arrow:before {\n",
              "  content: \"▾\";\n",
              "}\n",
              "\n",
              "/* Pipeline/ColumnTransformer-specific style */\n",
              "\n",
              "#sk-container-id-1 div.sk-label input.sk-toggleable__control:checked~label.sk-toggleable__label {\n",
              "  color: var(--sklearn-color-text);\n",
              "  background-color: var(--sklearn-color-unfitted-level-2);\n",
              "}\n",
              "\n",
              "#sk-container-id-1 div.sk-label.fitted input.sk-toggleable__control:checked~label.sk-toggleable__label {\n",
              "  background-color: var(--sklearn-color-fitted-level-2);\n",
              "}\n",
              "\n",
              "/* Estimator-specific style */\n",
              "\n",
              "/* Colorize estimator box */\n",
              "#sk-container-id-1 div.sk-estimator input.sk-toggleable__control:checked~label.sk-toggleable__label {\n",
              "  /* unfitted */\n",
              "  background-color: var(--sklearn-color-unfitted-level-2);\n",
              "}\n",
              "\n",
              "#sk-container-id-1 div.sk-estimator.fitted input.sk-toggleable__control:checked~label.sk-toggleable__label {\n",
              "  /* fitted */\n",
              "  background-color: var(--sklearn-color-fitted-level-2);\n",
              "}\n",
              "\n",
              "#sk-container-id-1 div.sk-label label.sk-toggleable__label,\n",
              "#sk-container-id-1 div.sk-label label {\n",
              "  /* The background is the default theme color */\n",
              "  color: var(--sklearn-color-text-on-default-background);\n",
              "}\n",
              "\n",
              "/* On hover, darken the color of the background */\n",
              "#sk-container-id-1 div.sk-label:hover label.sk-toggleable__label {\n",
              "  color: var(--sklearn-color-text);\n",
              "  background-color: var(--sklearn-color-unfitted-level-2);\n",
              "}\n",
              "\n",
              "/* Label box, darken color on hover, fitted */\n",
              "#sk-container-id-1 div.sk-label.fitted:hover label.sk-toggleable__label.fitted {\n",
              "  color: var(--sklearn-color-text);\n",
              "  background-color: var(--sklearn-color-fitted-level-2);\n",
              "}\n",
              "\n",
              "/* Estimator label */\n",
              "\n",
              "#sk-container-id-1 div.sk-label label {\n",
              "  font-family: monospace;\n",
              "  font-weight: bold;\n",
              "  display: inline-block;\n",
              "  line-height: 1.2em;\n",
              "}\n",
              "\n",
              "#sk-container-id-1 div.sk-label-container {\n",
              "  text-align: center;\n",
              "}\n",
              "\n",
              "/* Estimator-specific */\n",
              "#sk-container-id-1 div.sk-estimator {\n",
              "  font-family: monospace;\n",
              "  border: 1px dotted var(--sklearn-color-border-box);\n",
              "  border-radius: 0.25em;\n",
              "  box-sizing: border-box;\n",
              "  margin-bottom: 0.5em;\n",
              "  /* unfitted */\n",
              "  background-color: var(--sklearn-color-unfitted-level-0);\n",
              "}\n",
              "\n",
              "#sk-container-id-1 div.sk-estimator.fitted {\n",
              "  /* fitted */\n",
              "  background-color: var(--sklearn-color-fitted-level-0);\n",
              "}\n",
              "\n",
              "/* on hover */\n",
              "#sk-container-id-1 div.sk-estimator:hover {\n",
              "  /* unfitted */\n",
              "  background-color: var(--sklearn-color-unfitted-level-2);\n",
              "}\n",
              "\n",
              "#sk-container-id-1 div.sk-estimator.fitted:hover {\n",
              "  /* fitted */\n",
              "  background-color: var(--sklearn-color-fitted-level-2);\n",
              "}\n",
              "\n",
              "/* Specification for estimator info (e.g. \"i\" and \"?\") */\n",
              "\n",
              "/* Common style for \"i\" and \"?\" */\n",
              "\n",
              ".sk-estimator-doc-link,\n",
              "a:link.sk-estimator-doc-link,\n",
              "a:visited.sk-estimator-doc-link {\n",
              "  float: right;\n",
              "  font-size: smaller;\n",
              "  line-height: 1em;\n",
              "  font-family: monospace;\n",
              "  background-color: var(--sklearn-color-background);\n",
              "  border-radius: 1em;\n",
              "  height: 1em;\n",
              "  width: 1em;\n",
              "  text-decoration: none !important;\n",
              "  margin-left: 0.5em;\n",
              "  text-align: center;\n",
              "  /* unfitted */\n",
              "  border: var(--sklearn-color-unfitted-level-1) 1pt solid;\n",
              "  color: var(--sklearn-color-unfitted-level-1);\n",
              "}\n",
              "\n",
              ".sk-estimator-doc-link.fitted,\n",
              "a:link.sk-estimator-doc-link.fitted,\n",
              "a:visited.sk-estimator-doc-link.fitted {\n",
              "  /* fitted */\n",
              "  border: var(--sklearn-color-fitted-level-1) 1pt solid;\n",
              "  color: var(--sklearn-color-fitted-level-1);\n",
              "}\n",
              "\n",
              "/* On hover */\n",
              "div.sk-estimator:hover .sk-estimator-doc-link:hover,\n",
              ".sk-estimator-doc-link:hover,\n",
              "div.sk-label-container:hover .sk-estimator-doc-link:hover,\n",
              ".sk-estimator-doc-link:hover {\n",
              "  /* unfitted */\n",
              "  background-color: var(--sklearn-color-unfitted-level-3);\n",
              "  color: var(--sklearn-color-background);\n",
              "  text-decoration: none;\n",
              "}\n",
              "\n",
              "div.sk-estimator.fitted:hover .sk-estimator-doc-link.fitted:hover,\n",
              ".sk-estimator-doc-link.fitted:hover,\n",
              "div.sk-label-container:hover .sk-estimator-doc-link.fitted:hover,\n",
              ".sk-estimator-doc-link.fitted:hover {\n",
              "  /* fitted */\n",
              "  background-color: var(--sklearn-color-fitted-level-3);\n",
              "  color: var(--sklearn-color-background);\n",
              "  text-decoration: none;\n",
              "}\n",
              "\n",
              "/* Span, style for the box shown on hovering the info icon */\n",
              ".sk-estimator-doc-link span {\n",
              "  display: none;\n",
              "  z-index: 9999;\n",
              "  position: relative;\n",
              "  font-weight: normal;\n",
              "  right: .2ex;\n",
              "  padding: .5ex;\n",
              "  margin: .5ex;\n",
              "  width: min-content;\n",
              "  min-width: 20ex;\n",
              "  max-width: 50ex;\n",
              "  color: var(--sklearn-color-text);\n",
              "  box-shadow: 2pt 2pt 4pt #999;\n",
              "  /* unfitted */\n",
              "  background: var(--sklearn-color-unfitted-level-0);\n",
              "  border: .5pt solid var(--sklearn-color-unfitted-level-3);\n",
              "}\n",
              "\n",
              ".sk-estimator-doc-link.fitted span {\n",
              "  /* fitted */\n",
              "  background: var(--sklearn-color-fitted-level-0);\n",
              "  border: var(--sklearn-color-fitted-level-3);\n",
              "}\n",
              "\n",
              ".sk-estimator-doc-link:hover span {\n",
              "  display: block;\n",
              "}\n",
              "\n",
              "/* \"?\"-specific style due to the `<a>` HTML tag */\n",
              "\n",
              "#sk-container-id-1 a.estimator_doc_link {\n",
              "  float: right;\n",
              "  font-size: 1rem;\n",
              "  line-height: 1em;\n",
              "  font-family: monospace;\n",
              "  background-color: var(--sklearn-color-background);\n",
              "  border-radius: 1rem;\n",
              "  height: 1rem;\n",
              "  width: 1rem;\n",
              "  text-decoration: none;\n",
              "  /* unfitted */\n",
              "  color: var(--sklearn-color-unfitted-level-1);\n",
              "  border: var(--sklearn-color-unfitted-level-1) 1pt solid;\n",
              "}\n",
              "\n",
              "#sk-container-id-1 a.estimator_doc_link.fitted {\n",
              "  /* fitted */\n",
              "  border: var(--sklearn-color-fitted-level-1) 1pt solid;\n",
              "  color: var(--sklearn-color-fitted-level-1);\n",
              "}\n",
              "\n",
              "/* On hover */\n",
              "#sk-container-id-1 a.estimator_doc_link:hover {\n",
              "  /* unfitted */\n",
              "  background-color: var(--sklearn-color-unfitted-level-3);\n",
              "  color: var(--sklearn-color-background);\n",
              "  text-decoration: none;\n",
              "}\n",
              "\n",
              "#sk-container-id-1 a.estimator_doc_link.fitted:hover {\n",
              "  /* fitted */\n",
              "  background-color: var(--sklearn-color-fitted-level-3);\n",
              "}\n",
              "</style><div id=\"sk-container-id-1\" class=\"sk-top-container\"><div class=\"sk-text-repr-fallback\"><pre>GaussianNB()</pre><b>In a Jupyter environment, please rerun this cell to show the HTML representation or trust the notebook. <br />On GitHub, the HTML representation is unable to render, please try loading this page with nbviewer.org.</b></div><div class=\"sk-container\" hidden><div class=\"sk-item\"><div class=\"sk-estimator fitted sk-toggleable\"><input class=\"sk-toggleable__control sk-hidden--visually\" id=\"sk-estimator-id-1\" type=\"checkbox\" checked><label for=\"sk-estimator-id-1\" class=\"sk-toggleable__label fitted sk-toggleable__label-arrow\"><div><div>GaussianNB</div></div><div><a class=\"sk-estimator-doc-link fitted\" rel=\"noreferrer\" target=\"_blank\" href=\"https://scikit-learn.org/1.6/modules/generated/sklearn.naive_bayes.GaussianNB.html\">?<span>Documentation for GaussianNB</span></a><span class=\"sk-estimator-doc-link fitted\">i<span>Fitted</span></span></div></label><div class=\"sk-toggleable__content fitted\"><pre>GaussianNB()</pre></div> </div></div></div></div>"
            ]
          },
          "metadata": {},
          "execution_count": 7
        }
      ]
    },
    {
      "cell_type": "code",
      "source": [
        "from time import ctime\n",
        "#Se obtiene la información del modelo\n",
        "ct=mnb.class_count_\n",
        "print(\"¿Como estan separados los datos?\\n\",ct)\n",
        "print(\"El total de los datos es:\\n\",len(XD))"
      ],
      "metadata": {
        "colab": {
          "base_uri": "https://localhost:8080/"
        },
        "id": "onOJlpuDErUK",
        "outputId": "40b96751-6a89-4f7d-f0a5-46ceb910e8fa"
      },
      "execution_count": null,
      "outputs": [
        {
          "output_type": "stream",
          "name": "stdout",
          "text": [
            "¿Como estan separados los datos?\n",
            " [ 4470. 17520.]\n",
            "El total de los datos es:\n",
            " 21990\n"
          ]
        }
      ]
    },
    {
      "cell_type": "markdown",
      "source": [
        "**5. Llevar a cabo el pronóstico del título Universitario para las personas agrupadas en la base de datos de pronóstico.**"
      ],
      "metadata": {
        "id": "uS58sUKJEyP6"
      }
    },
    {
      "cell_type": "code",
      "source": [
        "XDB2=pd.read_excel(nxl,sheet_name=1)\n",
        "XDB2.head(100) #Solo muestra 100 datos\n",
        "\n",
        "# Convertir Business a valores numericos\n",
        "XDB2['Business']=pd.Categorical(XDB2['Business']).codes\n",
        "XDB2=XDB2.dropna()\n",
        "print(XDB2)\n",
        "\n",
        "dfp=mnb.predict"
      ],
      "metadata": {
        "colab": {
          "base_uri": "https://localhost:8080/"
        },
        "id": "LRNZYQvPE2Bt",
        "outputId": "21b0d262-7c78-4174-90a9-91f0eb8c7c87"
      },
      "execution_count": null,
      "outputs": [
        {
          "output_type": "stream",
          "name": "stdout",
          "text": [
            "    Sales_Rep  Business  Age  Female  Years Personality  Certificates  \\\n",
            "0           1         0   63       0      2    Sentinel             5   \n",
            "1           2         1   38       1      2    Diplomat             4   \n",
            "2           3         1   47       0      1     Analyst             2   \n",
            "3           4         1   25       0      1    Explorer             2   \n",
            "4           5         0   49       0     10    Explorer             4   \n",
            "5           6         1   48       0      1    Diplomat             1   \n",
            "6           7         1   25       1      1    Explorer             6   \n",
            "7           8         0   39       0      1    Diplomat             2   \n",
            "8           9         1   29       0      1    Explorer             5   \n",
            "9          10         1   45       1      3    Diplomat             3   \n",
            "10         11         0   35       0      6    Diplomat             1   \n",
            "11         12         0   30       0      4    Diplomat             2   \n",
            "12         13         1   28       0      1     Analyst             6   \n",
            "13         14         0   41       0      1    Sentinel             4   \n",
            "14         15         1   51       1      2    Diplomat             3   \n",
            "15         16         0   56       0      9    Diplomat             1   \n",
            "\n",
            "    Feedback  Salary  NPS  \n",
            "0       3.49  133000    8  \n",
            "1       3.33   80400    6  \n",
            "2       2.12   57000    7  \n",
            "3       2.89   79000    7  \n",
            "4       2.52  127000    6  \n",
            "5       3.35   62000    6  \n",
            "6       1.16   74000    7  \n",
            "7       2.12  112000    5  \n",
            "8       2.74   78000    8  \n",
            "9       2.90   74000    7  \n",
            "10      3.79   90000    8  \n",
            "11      2.50   69000    8  \n",
            "12      1.50   63000    6  \n",
            "13      1.35   51000    4  \n",
            "14      2.95   80800   10  \n",
            "15      3.28   68000    4  \n"
          ]
        }
      ]
    },
    {
      "cell_type": "markdown",
      "source": [
        "**6. Número de personas y de nodos puros.**"
      ],
      "metadata": {
        "id": "mYzlynRA8MkQ"
      }
    },
    {
      "cell_type": "code",
      "source": [
        "# Total de personas:\n",
        "total_personas = len(XDB)\n",
        "\n",
        "# Número de personas con título universitario (inscritas):\n",
        "num_inscritas = XDB['College'].sum()\n",
        "\n",
        "# Número de personas sin título universitario (no inscritas):\n",
        "num_no_inscritas = total_personas - num_inscritas\n",
        "\n",
        "# Imprimir los resultados:\n",
        "print(\"Total de personas en la base de datos:\",total_personas)\n",
        "print(\"Número de personas con título universitario (inscritas):\",num_inscritas)\n",
        "print(\"Número de personas sin título universitario (no inscritas):\",num_no_inscritas)\n",
        "\n",
        "# Determinar el número de nodos puros:\n",
        "# Obtener el número total de nodos en el árbol:\n",
        "n_nodes = mar.tree_.node_count\n",
        "\n",
        "# Obtener la información de las salidas por izquierda y derecha de cada nodo:\n",
        "children_left = mar.tree_.children_left\n",
        "children_right = mar.tree_.children_right\n",
        "\n",
        "# Contar los nodos puros (nodos hoja donde todos los registros pertenecen a la misma clase):\n",
        "pure_nodes = sum(1 for i in range(n_nodes) if children_left[i] == children_right[i])\n",
        "\n",
        "# Imprimir el resultado:\n",
        "print(\"Número de nodos puros:\",pure_nodes)"
      ],
      "metadata": {
        "colab": {
          "base_uri": "https://localhost:8080/"
        },
        "id": "A3D2E0758LmU",
        "outputId": "f597e22f-2e46-441e-cf5a-b2ca641a7d8b"
      },
      "execution_count": null,
      "outputs": [
        {
          "output_type": "stream",
          "name": "stdout",
          "text": [
            "Total de personas en la base de datos: 21990\n",
            "Número de personas con título universitario (inscritas): 17520\n",
            "Número de personas sin título universitario (no inscritas): 4470\n",
            "Número de nodos puros: 16\n"
          ]
        }
      ]
    },
    {
      "cell_type": "markdown",
      "source": [
        "**ANÁLISIS DE RESULTADOS.**\n",
        "\n",
        "Para la implementación del modelo de Árbol de Decisión se tomaron un total de 9 variables, 8 variables de entrada entre las que se destacan Business, Age, Years, Female, Feedback, Salary, Certificates y NPS; y una variable de salida que permite evaluar si el empleado tiene o no un título universitario. Para la construcción del modelo se tuvieron un total de 21990 datos divididos en 17520 personas contítulo universitario y un total de 4470 sin título. Luego de la ejecución del modelo se logró una **exactitud cercana al 80%**, lo que está por encima del 75% frente a la exactitud, indicando la calidad del modelo en el pronóstico. Es importante destacar que el **coeficiente de sensibilidad fue cercano al 100%**, mientras que **la Precisión del Modelo fue del 80%**, lo que corrobora el buen funcionamiento del mismo."
      ],
      "metadata": {
        "id": "pSMTMi_zJ3iC"
      }
    }
  ]
}